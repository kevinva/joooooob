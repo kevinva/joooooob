{
 "cells": [
  {
   "cell_type": "code",
   "execution_count": 7,
   "id": "1a73d761",
   "metadata": {},
   "outputs": [],
   "source": [
    "from PIL import Image\n",
    "import imagehash\n",
    "import numpy as np"
   ]
  },
  {
   "cell_type": "code",
   "execution_count": 11,
   "id": "5aca06de",
   "metadata": {},
   "outputs": [],
   "source": [
    "image1 = Image.open('./pic1.png')"
   ]
  },
  {
   "cell_type": "code",
   "execution_count": 22,
   "id": "b3974bba",
   "metadata": {},
   "outputs": [
    {
     "data": {
      "text/plain": [
       "array([[False,  True,  True, False, False, False,  True,  True],\n",
       "       [ True,  True,  True, False, False,  True,  True,  True],\n",
       "       [ True, False,  True,  True,  True, False,  True,  True],\n",
       "       [ True, False, False,  True,  True, False,  True,  True],\n",
       "       [ True, False, False,  True,  True, False,  True,  True],\n",
       "       [ True, False,  True,  True,  True,  True,  True, False],\n",
       "       [ True,  True,  True, False, False, False,  True, False],\n",
       "       [ True,  True, False, False, False, False,  True, False]])"
      ]
     },
     "execution_count": 22,
     "metadata": {},
     "output_type": "execute_result"
    }
   ],
   "source": [
    "imagehash.dhash(image1)"
   ]
  },
  {
   "cell_type": "code",
   "execution_count": 23,
   "id": "6cc50a79",
   "metadata": {},
   "outputs": [
    {
     "data": {
      "text/plain": [
       "array([[ True,  True,  True, False,  True, False,  True,  True],\n",
       "       [ True, False, False,  True,  True, False,  True,  True],\n",
       "       [ True,  True, False,  True,  True, False,  True,  True],\n",
       "       [ True, False, False,  True,  True,  True,  True, False],\n",
       "       [ True, False,  True, False,  True,  True,  True,  True],\n",
       "       [ True,  True,  True, False, False, False,  True, False],\n",
       "       [ True, False, False,  True, False, False,  True, False],\n",
       "       [ True, False, False,  True, False,  True, False, False]])"
      ]
     },
     "execution_count": 23,
     "metadata": {},
     "output_type": "execute_result"
    }
   ],
   "source": [
    "image2 = Image.open('./pic2.png')\n",
    "imagehash.dhash(image2)"
   ]
  },
  {
   "cell_type": "code",
   "execution_count": null,
   "id": "6a6f54fb",
   "metadata": {},
   "outputs": [],
   "source": []
  }
 ],
 "metadata": {
  "kernelspec": {
   "display_name": "Python 3 (ipykernel)",
   "language": "python",
   "name": "python3"
  },
  "language_info": {
   "codemirror_mode": {
    "name": "ipython",
    "version": 3
   },
   "file_extension": ".py",
   "mimetype": "text/x-python",
   "name": "python",
   "nbconvert_exporter": "python",
   "pygments_lexer": "ipython3",
   "version": "3.9.12"
  }
 },
 "nbformat": 4,
 "nbformat_minor": 5
}
